{
 "cells": [
  {
   "cell_type": "code",
   "execution_count": 1,
   "metadata": {},
   "outputs": [
    {
     "data": {
      "text/plain": [
       "'C:\\\\Users\\\\Paul\\\\anaconda3\\\\envs\\\\Master-Internship_Comp-Vis\\\\python.exe'"
      ]
     },
     "execution_count": 1,
     "metadata": {},
     "output_type": "execute_result"
    }
   ],
   "source": [
    "import sys\n",
    "sys.executable"
   ]
  },
  {
   "cell_type": "code",
   "execution_count": 1,
   "metadata": {
    "ExecuteTime": {
     "end_time": "2018-02-24T11:26:01.319847Z",
     "start_time": "2018-02-24T11:26:00.882068Z"
    }
   },
   "outputs": [
    {
     "name": "stdout",
     "output_type": "stream",
     "text": [
      "Using matplotlib backend: Qt5Agg\n",
      "Populating the interactive namespace from numpy and matplotlib\n"
     ]
    }
   ],
   "source": [
    "%pylab\n",
    "%matplotlib inline\n",
    "\n",
    "import re, isbi_seg_oak\n",
    "from segmetrics.study     import *\n",
    "from segmetrics.regional  import *\n",
    "from segmetrics.boundary  import *\n",
    "from segmetrics.detection import *\n",
    "import segmetrics.parallel\n",
    "from skimage import measure, io\n",
    "import scipy.ndimage as ndi"
   ]
  },
  {
   "cell_type": "code",
   "execution_count": 2,
   "metadata": {},
   "outputs": [
    {
     "name": "stdout",
     "output_type": "stream",
     "text": [
      "Last tested with version: 0.11.2 (on host: DESKTOP-0D2MQF6)\n"
     ]
    }
   ],
   "source": [
    "import socket\n",
    "\n",
    "def get_version():\n",
    "    import segmetrics\n",
    "    return segmetrics.VERSION # this works\n",
    "\n",
    "print('Last tested with version: %s (on host: %s)' % (get_version(), socket.gethostname()))"
   ]
  },
  {
   "cell_type": "code",
   "execution_count": 3,
   "metadata": {
    "collapsed": true
   },
   "outputs": [
    {
     "name": "stdout",
     "output_type": "stream",
     "text": [
      "# packages in environment at /home/void/.anaconda3/envs/kostrykin2021-amd:\r\n",
      "#\r\n",
      "# Name                    Version                   Build  Channel\r\n",
      "_libgcc_mutex             0.1                 conda_forge    conda-forge\r\n",
      "_openmp_mutex             4.5                       1_gnu    conda-forge\r\n",
      "aiohttp                   3.7.4.post0              pypi_0    pypi\r\n",
      "aiohttp-cors              0.7.0                    pypi_0    pypi\r\n",
      "aioredis                  1.3.1                    pypi_0    pypi\r\n",
      "anyio                     3.1.0            py38h578d9bd_0    conda-forge\r\n",
      "appdirs                   1.4.4                      py_0    anaconda\r\n",
      "argon2-cffi               20.1.0           py38h7b6447c_1    anaconda\r\n",
      "async-timeout             3.0.1                    pypi_0    pypi\r\n",
      "async_generator           1.10                       py_0    anaconda\r\n",
      "attrs                     20.2.0                     py_0    anaconda\r\n",
      "babel                     2.8.0                      py_0    anaconda\r\n",
      "backcall                  0.2.0                      py_0    anaconda\r\n",
      "beautifulsoup4            4.9.3                    pypi_0    pypi\r\n",
      "blas                      1.0                         mkl    anaconda\r\n",
      "bleach                    3.2.1                      py_0    anaconda\r\n",
      "blessings                 1.7                      pypi_0    pypi\r\n",
      "blosc                     1.20.1               hd408876_0    anaconda\r\n",
      "brotli                    1.0.9                he6710b0_2    anaconda\r\n",
      "brotlipy                  0.7.0           py38h7b6447c_1000    anaconda\r\n",
      "bzip2                     1.0.8                h7b6447c_0    anaconda\r\n",
      "c-ares                    1.16.1               h7b6447c_0    anaconda\r\n",
      "ca-certificates           2020.10.14                    0    anaconda\r\n",
      "cachetools                4.2.2                    pypi_0    pypi\r\n",
      "cairo                     1.16.0            h6cf1ce9_1008    conda-forge\r\n",
      "celiagg                   2.1.2            py38hf389d04_0    conda-forge\r\n",
      "certifi                   2020.6.20                py38_0    anaconda\r\n",
      "cffi                      1.14.3           py38he30daa8_0    anaconda\r\n",
      "chardet                   3.0.4                 py38_1003    anaconda\r\n",
      "charls                    2.1.0                he6710b0_2    anaconda\r\n",
      "click                     8.0.1                    pypi_0    pypi\r\n",
      "cloudpickle               1.6.0                      py_0    anaconda\r\n",
      "colorama                  0.4.4                    pypi_0    pypi\r\n",
      "colorful                  0.5.4                    pypi_0    pypi\r\n",
      "cryptography              3.1.1            py38h1ba5d50_0    anaconda\r\n",
      "cvxopt                    1.2.6            py38h55e5319_0    conda-forge\r\n",
      "cvxpy                     1.1.13           py38h578d9bd_0    conda-forge\r\n",
      "cvxpy-base                1.1.13           py38h1abd341_0    conda-forge\r\n",
      "cycler                    0.10.0                   py38_0    anaconda\r\n",
      "cython                    0.29.26                  pypi_0    pypi\r\n",
      "cytoolz                   0.11.0           py38h7b6447c_0    anaconda\r\n",
      "dask-core                 2.30.0                     py_0    anaconda\r\n",
      "dbus                      1.13.18              hb2f20db_0    anaconda\r\n",
      "debugpy                   1.3.0            py38h709712a_0    conda-forge\r\n",
      "decorator                 4.4.2                      py_0    anaconda\r\n",
      "defusedxml                0.6.0                      py_0    anaconda\r\n",
      "dill                      0.3.2                      py_0    anaconda\r\n",
      "dsdp                      5.8                  h9e0dedd_0    anaconda\r\n",
      "ecos                      2.0.7.post1      py38heb32a55_0    anaconda\r\n",
      "entrypoints               0.3                      py38_0    anaconda\r\n",
      "et_xmlfile                1.0.1                   py_1001    anaconda\r\n",
      "expat                     2.2.10               he6710b0_2    anaconda\r\n",
      "ffmpeg                    4.2.2                h20bf706_0    anaconda\r\n",
      "fftw                      3.3.9           nompi_h74d3f13_101    conda-forge\r\n",
      "filelock                  3.0.12                   pypi_0    pypi\r\n",
      "fontconfig                2.13.1            hba837de_1005    conda-forge\r\n",
      "freetype                  2.10.4               h5ab3b9f_0    anaconda\r\n",
      "gettext                   0.19.8.1             h9b4dc7a_1    anaconda\r\n",
      "giflib                    5.1.4                h14c3975_1    anaconda\r\n",
      "glib                      2.68.3               h9c3ff4c_0    conda-forge\r\n",
      "glib-tools                2.68.3               h9c3ff4c_0    conda-forge\r\n",
      "glpk                      4.65                 h3ceedfd_2    anaconda\r\n",
      "gmp                       6.1.2                hb3b607b_0    anaconda\r\n",
      "gnutls                    3.6.5             h71b1129_1002    anaconda\r\n",
      "google                    3.0.0                    pypi_0    pypi\r\n",
      "google-api-core           1.30.0                   pypi_0    pypi\r\n",
      "google-auth               1.31.0                   pypi_0    pypi\r\n",
      "googleapis-common-protos  1.53.0                   pypi_0    pypi\r\n",
      "gpustat                   0.6.0                    pypi_0    pypi\r\n",
      "graphite2                 1.3.14               h23475e2_0    anaconda\r\n",
      "grpcio                    1.38.0                   pypi_0    pypi\r\n",
      "gsl                       2.6                  he838d99_2    conda-forge\r\n",
      "gst-plugins-base          1.14.5               h0935bb2_2    conda-forge\r\n",
      "gstreamer                 1.18.4               h76c114f_2    conda-forge\r\n",
      "harfbuzz                  2.8.1                h83ec7ef_0    conda-forge\r\n",
      "hdf5                      1.10.6          nompi_h6a2412b_1114    conda-forge\r\n",
      "hiredis                   2.0.0                    pypi_0    pypi\r\n",
      "icu                       68.1                 h58526e2_0    conda-forge\r\n",
      "idna                      2.10                       py_0    anaconda\r\n",
      "imagecodecs               2020.5.30        py38hfa7d478_2    anaconda\r\n",
      "imageio                   2.9.0                      py_0    anaconda\r\n",
      "imageio-ffmpeg            0.4.4              pyhd8ed1ab_0    conda-forge\r\n",
      "importlib-metadata        2.0.0                      py_1    anaconda\r\n",
      "importlib_metadata        2.0.0                         1    anaconda\r\n",
      "intel-openmp              2020.2                      254    anaconda\r\n",
      "ipykernel                 5.3.4            py38h5ca1d4c_0    anaconda\r\n",
      "ipynbname                 2021.3.2                 pypi_0    pypi\r\n",
      "ipython                   7.18.1           py38h5ca1d4c_0    anaconda\r\n",
      "ipython_genutils          0.2.0                    py38_0    anaconda\r\n",
      "ipywidgets                7.5.1                      py_1    anaconda\r\n",
      "jasper                    1.900.1           h07fcdf6_1006    conda-forge\r\n",
      "jdcal                     1.4.1                      py_0    anaconda\r\n",
      "jedi                      0.17.2                   py38_0    anaconda\r\n",
      "jinja2                    2.11.2                     py_0    anaconda\r\n",
      "joblib                    0.17.0                     py_0    anaconda\r\n",
      "jpeg                      9d                   h36c2ea0_0    conda-forge\r\n",
      "json5                     0.9.5                      py_0    anaconda\r\n",
      "jsonschema                3.2.0                      py_2    anaconda\r\n",
      "jupyter                   1.0.0                    py38_7    anaconda\r\n",
      "jupyter_client            6.1.7                      py_0    anaconda\r\n",
      "jupyter_console           6.2.0                      py_0    anaconda\r\n",
      "jupyter_core              4.6.3                    py38_0    anaconda\r\n",
      "jupyter_server            1.8.0              pyhd8ed1ab_0    conda-forge\r\n",
      "jupyterlab                3.0.16             pyhd8ed1ab_0    conda-forge\r\n",
      "jupyterlab_pygments       0.1.2                      py_0    anaconda\r\n",
      "jupyterlab_server         2.6.0              pyhd8ed1ab_0    conda-forge\r\n",
      "jxrlib                    1.1                  h7b6447c_2    anaconda\r\n",
      "kiwisolver                1.2.0            py38hfd86e86_0    anaconda\r\n",
      "krb5                      1.17.1               h173b8e3_0    anaconda\r\n",
      "lame                      3.100                h7b6447c_0    anaconda\r\n",
      "lcms2                     2.11                 h396b838_0    anaconda\r\n",
      "ld_impl_linux-64          2.33.1               h53a641e_7    anaconda\r\n",
      "libaec                    1.0.4                he6710b0_1    anaconda\r\n",
      "libblas                   3.9.0           1_h86c2bf4_netlib    conda-forge\r\n",
      "libcblas                  3.9.0           5_h92ddd45_netlib    conda-forge\r\n",
      "libclang                  11.1.0          default_ha53f305_1    conda-forge\r\n",
      "libcurl                   7.71.1               hcdd3856_8    conda-forge\r\n",
      "libedit                   3.1.20191231         h14c3975_1    anaconda\r\n",
      "libev                     4.33                 h7b6447c_0    anaconda\r\n",
      "libevent                  2.1.10               hcdb4288_3    conda-forge\r\n",
      "libffi                    3.3                  he6710b0_2    anaconda\r\n",
      "libgcc                    7.2.0                h69d50b8_2    anaconda\r\n",
      "libgcc-ng                 9.3.0               h2828fa1_19    conda-forge\r\n",
      "libgfortran-ng            9.3.0               hff62375_19    conda-forge\r\n",
      "libgfortran5              9.3.0               hff62375_19    conda-forge\r\n",
      "libglib                   2.68.3               h3e27bee_0    conda-forge\r\n",
      "libgomp                   9.3.0               h2828fa1_19    conda-forge\r\n",
      "libiconv                  1.16                 h516909a_0    conda-forge\r\n",
      "liblapack                 3.9.0           5_h92ddd45_netlib    conda-forge\r\n",
      "liblapacke                3.9.0           5_h92ddd45_netlib    conda-forge\r\n",
      "libllvm11                 11.1.0               hf817b99_2    conda-forge\r\n",
      "libnghttp2                1.41.0               hf8bcb03_2    anaconda\r\n",
      "libopencv                 4.2.0                    py38_6    conda-forge\r\n",
      "libopus                   1.3.1                h7b6447c_0    anaconda\r\n",
      "libpng                    1.6.37               hbc83047_0    anaconda\r\n",
      "libpq                     12.3                 h255efa7_3    conda-forge\r\n",
      "libsodium                 1.0.18               h7b6447c_0    anaconda\r\n",
      "libssh2                   1.9.0                h1ba5d50_1    anaconda\r\n",
      "libstdcxx-ng              9.3.0               h6de172a_19    conda-forge\r\n",
      "libtiff                   4.1.0                hc3755c2_3    conda-forge\r\n",
      "libuuid                   2.32.1            h7f98852_1000    conda-forge\r\n",
      "libuv                     1.41.0               h7f98852_0    conda-forge\r\n",
      "libvpx                    1.7.0                h439df22_0    anaconda\r\n",
      "libwebp                   1.0.2                h576950b_1    conda-forge\r\n",
      "libxcb                    1.14                 h7b6447c_0    anaconda\r\n",
      "libxkbcommon              1.0.3                he3ba5ed_0    conda-forge\r\n",
      "libxml2                   2.9.12               h72842e0_0    conda-forge\r\n",
      "libxslt                   1.1.33               h15afd5d_2    conda-forge\r\n",
      "libzopfli                 1.0.3                he6710b0_0    anaconda\r\n",
      "lz4-c                     1.9.2                heb0550a_3    anaconda\r\n",
      "markupsafe                1.1.1            py38h7b6447c_0    anaconda\r\n",
      "matplotlib                3.3.1                         0    anaconda\r\n",
      "matplotlib-base           3.3.1            py38h817c723_0    anaconda\r\n",
      "metis                     5.1.0                hf484d3e_4    anaconda\r\n",
      "mistune                   0.8.4           py38h7b6447c_1000    anaconda\r\n",
      "mkl                       2020.0                      166    anaconda\r\n",
      "msgpack                   1.0.2                    pypi_0    pypi\r\n",
      "multidict                 5.1.0                    pypi_0    pypi\r\n",
      "mysql-common              8.0.22               ha770c72_1    conda-forge\r\n",
      "mysql-libs                8.0.22               h1fd7589_1    conda-forge\r\n",
      "nbclassic                 0.3.1              pyhd8ed1ab_1    conda-forge\r\n",
      "nbclient                  0.5.1                      py_0    anaconda\r\n",
      "nbconvert                 6.0.7                    py38_0    anaconda\r\n",
      "nbformat                  5.0.8                      py_0    anaconda\r\n",
      "ncurses                   6.2                  he6710b0_1    anaconda\r\n",
      "nest-asyncio              1.4.1                      py_0    anaconda\r\n",
      "nettle                    3.4.1                hbb512f6_0    anaconda\r\n",
      "networkx                  2.5                        py_0    anaconda\r\n",
      "nodejs                    15.14.0              h92b4a50_0    conda-forge\r\n",
      "notebook                  6.1.4                    py38_0    anaconda\r\n",
      "nspr                      4.30                 h9c3ff4c_0    conda-forge\r\n",
      "nss                       3.67                 hb5efdd6_0    conda-forge\r\n",
      "numpy                     1.20.3           py38h9894fe3_1    conda-forge\r\n",
      "nvidia-ml-py3             7.352.0                  pypi_0    pypi\r\n",
      "olefile                   0.46                       py_0    anaconda\r\n",
      "opencensus                0.7.13                   pypi_0    pypi\r\n",
      "opencensus-context        0.1.2                    pypi_0    pypi\r\n",
      "opencv                    4.2.0                    py38_6    conda-forge\r\n",
      "openh264                  2.1.0                hd408876_0    anaconda\r\n",
      "openjpeg                  2.3.0                h05c96fa_1    anaconda\r\n",
      "openpyxl                  3.0.5                      py_0    anaconda\r\n",
      "openssl                   1.1.1k               h7f98852_0    conda-forge\r\n",
      "osqp                      0.6.2            py38h51da96c_1    conda-forge\r\n",
      "packaging                 20.4                       py_0    anaconda\r\n",
      "pandas                    1.1.3            py38he6710b0_0    anaconda\r\n",
      "pandoc                    2.11                 hb0f4dca_0    anaconda\r\n",
      "pandocfilters             1.4.2                    py38_1    anaconda\r\n",
      "parso                     0.7.0                      py_0    anaconda\r\n",
      "pcre                      8.44                 he6710b0_0    anaconda\r\n",
      "pexpect                   4.8.0                    py38_0    anaconda\r\n",
      "pickleshare               0.7.5                 py38_1000    anaconda\r\n",
      "pillow                    8.0.0            py38h9a89aac_0    anaconda\r\n",
      "pip                       20.2.4                   py38_0    anaconda\r\n",
      "pixman                    0.40.0               h7b6447c_0    anaconda\r\n",
      "pooch                     1.4.0              pyhd8ed1ab_0    conda-forge\r\n",
      "posix_ipc                 1.0.4            py38h7b6447c_0    anaconda\r\n",
      "prometheus_client         0.8.0                      py_0    anaconda\r\n",
      "prompt-toolkit            3.0.8                      py_0    anaconda\r\n",
      "prompt_toolkit            3.0.8                         0    anaconda\r\n",
      "protobuf                  3.17.3                   pypi_0    pypi\r\n",
      "psutil                    5.8.0                    pypi_0    pypi\r\n",
      "ptyprocess                0.6.0                    py38_0    anaconda\r\n",
      "py-opencv                 4.2.0            py38h23f93f0_6    conda-forge\r\n",
      "py-spy                    0.3.7                    pypi_0    pypi\r\n",
      "pyasn1                    0.4.8                    pypi_0    pypi\r\n",
      "pyasn1-modules            0.2.8                    pypi_0    pypi\r\n",
      "pycparser                 2.20                       py_2    anaconda\r\n",
      "pygments                  2.7.1                      py_0    anaconda\r\n",
      "pyopenssl                 19.1.0                     py_1    anaconda\r\n",
      "pyparsing                 2.4.7                      py_0    anaconda\r\n",
      "pyqt                      5.12.3           py38h578d9bd_7    conda-forge\r\n",
      "pyqt-impl                 5.12.3           py38h7400c14_7    conda-forge\r\n",
      "pyqt5-sip                 4.19.18          py38h709712a_7    conda-forge\r\n",
      "pyqtchart                 5.12             py38h7400c14_7    conda-forge\r\n",
      "pyqtwebengine             5.12.1           py38h7400c14_7    conda-forge\r\n",
      "pyrsistent                0.17.3           py38h7b6447c_0    anaconda\r\n",
      "pyside2                   5.13.2           py38h2009f50_4    conda-forge\r\n",
      "pysocks                   1.7.1                    py38_0    anaconda\r\n",
      "python                    3.8.5                h7579374_1    anaconda\r\n",
      "python-dateutil           2.8.1                      py_0    anaconda\r\n",
      "python_abi                3.8                      1_cp38    conda-forge\r\n",
      "pytz                      2020.1                     py_0    anaconda\r\n",
      "pywavelets                1.1.1            py38h7b6447c_2    anaconda\r\n",
      "pyyaml                    5.3.1            py38h7b6447c_1    anaconda\r\n",
      "pyzmq                     19.0.2           py38he6710b0_1    anaconda\r\n",
      "qdldl-python              0.1.5            py38h51da96c_0    conda-forge\r\n",
      "qt                        5.12.9               h9d6b050_2    conda-forge\r\n",
      "qtconsole                 4.7.7                      py_0    anaconda\r\n",
      "qtpy                      1.9.0                      py_0    anaconda\r\n",
      "ray                       0.8.7                    pypi_0    pypi\r\n",
      "readline                  8.0                  h7b6447c_0    anaconda\r\n",
      "redis                     3.4.1                    pypi_0    pypi\r\n",
      "requests                  2.24.0                     py_0    anaconda\r\n",
      "rsa                       4.7.2                    pypi_0    pypi\r\n",
      "scikit-image              0.18.1           py38h51da96c_0    conda-forge\r\n",
      "scikit-learn              0.23.2           py38h0573a6f_0    anaconda\r\n",
      "scipy                     1.6.3            py38h7b17777_0    conda-forge\r\n",
      "scs                       2.1.4            py38hc35c0be_0    conda-forge\r\n",
      "send2trash                1.5.0                    py38_0    anaconda\r\n",
      "setuptools                50.3.0           py38hb0f4dca_1    anaconda\r\n",
      "six                       1.15.0                     py_0    anaconda\r\n",
      "snappy                    1.1.8                he6710b0_0    anaconda\r\n",
      "sniffio                   1.1.0                    py38_2    anaconda\r\n",
      "soupsieve                 2.2.1                    pypi_0    pypi\r\n",
      "sqlite                    3.35.5               h74cdb3f_0    conda-forge\r\n",
      "suitesparse               5.7.2                h7a0d4b7_0    conda-forge\r\n",
      "tbb                       2020.3               hfd86e86_0    anaconda\r\n",
      "terminado                 0.9.1                    py38_0    anaconda\r\n",
      "testpath                  0.4.4                      py_0    anaconda\r\n",
      "threadpoolctl             2.1.0              pyh5ca1d4c_0    anaconda\r\n",
      "tifffile                  2020.10.1        py38hdd07704_2    anaconda\r\n",
      "tk                        8.6.10               hbc83047_0    anaconda\r\n",
      "toolz                     0.11.1                     py_0    anaconda\r\n",
      "tornado                   6.1              py38h497a2fe_1    conda-forge\r\n",
      "traitlets                 5.0.5                      py_0    anaconda\r\n",
      "typing-extensions         3.10.0.0                 pypi_0    pypi\r\n",
      "urllib3                   1.25.11                    py_0    anaconda\r\n",
      "wcwidth                   0.2.5                      py_0    anaconda\r\n",
      "webencodings              0.5.1                    py38_1    anaconda\r\n",
      "websocket-client          0.57.0                   py38_2    anaconda\r\n",
      "wheel                     0.35.1                     py_0    anaconda\r\n",
      "widgetsnbextension        3.5.1                    py38_0    anaconda\r\n",
      "x264                      1!157.20191217       h7b6447c_0    anaconda\r\n",
      "xcftools                  1.0.7                         1    bioconda\r\n",
      "xeus                      1.0.1                h78d96c3_1    conda-forge\r\n",
      "xeus-python               0.10.2           py38h56bed4f_0    conda-forge\r\n",
      "xorg-kbproto              1.0.7             h7f98852_1002    conda-forge\r\n",
      "xorg-libice               1.0.10               h7f98852_0    conda-forge\r\n",
      "xorg-libsm                1.2.3             hd9c2040_1000    conda-forge\r\n",
      "xorg-libx11               1.7.2                h7f98852_0    conda-forge\r\n",
      "xorg-libxext              1.3.4                h7f98852_1    conda-forge\r\n",
      "xorg-libxrender           0.9.10            h7f98852_1003    conda-forge\r\n",
      "xorg-renderproto          0.11.1            h7f98852_1002    conda-forge\r\n",
      "xorg-xextproto            7.3.0             h7f98852_1002    conda-forge\r\n",
      "xorg-xproto               7.0.31            h7f98852_1007    conda-forge\r\n",
      "xz                        5.2.5                h7b6447c_0    anaconda\r\n",
      "yaml                      0.2.5                h7b6447c_0    anaconda\r\n",
      "yarl                      1.6.3                    pypi_0    pypi\r\n",
      "zeromq                    4.3.3                he6710b0_3    anaconda\r\n",
      "zipp                      3.3.1                      py_0    anaconda\r\n",
      "zlib                      1.2.11               h7b6447c_3    anaconda\r\n",
      "zstd                      1.4.5                h9ceee32_0    anaconda\r\n"
     ]
    }
   ],
   "source": [
    "!conda list"
   ]
  },
  {
   "cell_type": "code",
   "execution_count": 6,
   "metadata": {
    "ExecuteTime": {
     "end_time": "2018-02-24T11:26:01.328604Z",
     "start_time": "2018-02-24T11:26:01.321926Z"
    }
   },
   "outputs": [],
   "source": [
    "def load_img(filepath):\n",
    "    filepath = filepath.lower() \n",
    "    if filepath.endswith('.png'):\n",
    "        return io.imread(filepath, 'gray') #in case we have a png image, just load\n",
    "    elif filepath.endswith('.tif'):\n",
    "        img = io.imread(filepath, plugin='tifffile')\n",
    "        if img.ndim == 3:\n",
    "            if img.shape[0] == 1: img = img[0] #if it's tif, it could have a weird first shape of 1 which we removed here. Otherweise tif is just loaded\n",
    "            else: raise ValueError('not implemented')\n",
    "        return img \n",
    "    else:\n",
    "        raise ValueError('unknown file extension')"
   ]
  },
  {
   "cell_type": "code",
   "execution_count": 8,
   "metadata": {
    "ExecuteTime": {
     "end_time": "2018-02-24T11:26:01.396046Z",
     "start_time": "2018-02-24T11:26:01.330206Z"
    }
   },
   "outputs": [],
   "source": [
    "result_list      = [load_img('testdata/%02d_result.%s'      % (i, ext)) for i, ext in enumerate(['png', 'tif'], 1)]\n",
    "groundtruth_list = [load_img('testdata/%02d_groundtruth.%s' % (i, ext)) for i, ext in enumerate(['png', 'tif'], 1)]\n",
    "# so a list of groundtruths and a list of results I can produce on my own"
   ]
  },
  {
   "cell_type": "code",
   "execution_count": 9,
   "metadata": {},
   "outputs": [
    {
     "data": {
      "text/plain": [
       "<matplotlib.image.AxesImage at 0x1fbd92ce2e0>"
      ]
     },
     "execution_count": 9,
     "metadata": {},
     "output_type": "execute_result"
    },
    {
     "data": {
      "image/png": "[encoded data removed]",
      "text/plain": [
       "<Figure size 432x288 with 1 Axes>"
      ]
     },
     "metadata": {
      "needs_background": "light"
     },
     "output_type": "display_data"
    }
   ],
   "source": [
    "figure(); imshow(result_list[0])"
   ]
  },
  {
   "cell_type": "markdown",
   "metadata": {},
   "source": [
    "## Testing `parallel` processing"
   ]
  },
  {
   "cell_type": "code",
   "execution_count": 4,
   "metadata": {},
   "outputs": [
    {
     "data": {
      "image/png": "[encoded data removed]",
      "text/plain": [
       "<Figure size 432x288 with 2 Axes>"
      ]
     },
     "metadata": {
      "needs_background": "light"
     },
     "output_type": "display_data"
    }
   ],
   "source": [
    "def create_parallel_testing_study(): # this chunk works\n",
    "    study = Study()\n",
    "    study.add_measure(ObjectBasedDistance(NSD()), 'NSD')\n",
    "    study.add_measure(ISBIScore(), 'SEG')\n",
    "    return study # whatever this is\n",
    "\n",
    "def get_random_actual(chunk_id):\n",
    "    random.seed(chunk_id)\n",
    "    im = ndi.gaussian_filter(random.rand(100, 100), 10) # creating a random filter and subsetting to get the weird shape downstairs\n",
    "    return im > im.mean() + 0.2 * im.std()\n",
    "\n",
    "def get_random_expected(chunk_id):\n",
    "    return get_random_actual(1000 + chunk_id)\n",
    "\n",
    "subplot(121)\n",
    "imshow(get_random_actual(1), 'gray', interpolation='none')\n",
    "subplot(122)\n",
    "imshow(get_random_expected(1), 'gray', interpolation='none')\n",
    "tight_layout()"
   ]
  },
  {
   "cell_type": "code",
   "execution_count": 5,
   "metadata": {},
   "outputs": [
    {
     "ename": "NameError",
     "evalue": "name 'random' is not defined",
     "output_type": "error",
     "traceback": [
      "\u001b[1;31m---------------------------------------------------------------------------\u001b[0m",
      "\u001b[1;31mRemoteTraceback\u001b[0m                           Traceback (most recent call last)",
      "\u001b[1;31mRemoteTraceback\u001b[0m: \n\"\"\"\nTraceback (most recent call last):\n  File \"C:\\Users\\Paul\\anaconda3\\envs\\Master-Internship_Comp-Vis\\lib\\multiprocessing\\pool.py\", line 125, in worker\n    result = (True, func(*args, **kwds))\n  File \"C:\\Users\\Paul\\Documents\\Python Scripts\\Master_Internship_Comp-Vis\\segmetrics.py-master\\segmetrics\\parallel.py\", line 55, in __call__\n    return self.f(*args)\n  File \"C:\\Users\\Paul\\Documents\\Python Scripts\\Master_Internship_Comp-Vis\\segmetrics.py-master\\segmetrics\\parallel.py\", line 29, in _process_chunk\n    actual   = dill.loads(get_actual_func  )(chunk_id)\n  File \"<ipython-input-4-acaa5e89e83e>\", line 8, in get_random_actual\nNameError: name 'random' is not defined\n\"\"\"",
      "\nThe above exception was the direct cause of the following exception:\n",
      "\u001b[1;31mNameError\u001b[0m                                 Traceback (most recent call last)",
      "\u001b[1;32m<ipython-input-5-d6ace23807d1>\u001b[0m in \u001b[0;36m<module>\u001b[1;34m\u001b[0m\n\u001b[0;32m      1\u001b[0m \u001b[0mchunk_ids\u001b[0m \u001b[1;33m=\u001b[0m \u001b[0mrange\u001b[0m\u001b[1;33m(\u001b[0m\u001b[1;36m11\u001b[0m\u001b[1;33m)\u001b[0m\u001b[1;33m\u001b[0m\u001b[1;33m\u001b[0m\u001b[0m\n\u001b[0;32m      2\u001b[0m \u001b[0mstudy\u001b[0m     \u001b[1;33m=\u001b[0m \u001b[0mcreate_parallel_testing_study\u001b[0m\u001b[1;33m(\u001b[0m\u001b[1;33m)\u001b[0m\u001b[1;33m\u001b[0m\u001b[1;33m\u001b[0m\u001b[0m\n\u001b[1;32m----> 3\u001b[1;33m for chunk_id in segmetrics.parallel.process(study, get_random_actual, get_random_expected, chunk_ids, num_forks=2, \n\u001b[0m\u001b[0;32m      4\u001b[0m                                             is_actual_unique=False, is_expected_unique=False): #error here with random not being defined ???\n\u001b[0;32m      5\u001b[0m \u001b[1;33m\u001b[0m\u001b[0m\n",
      "\u001b[1;32m~\\Documents\\Python Scripts\\Master_Internship_Comp-Vis\\segmetrics.py-master\\segmetrics\\parallel.py\u001b[0m in \u001b[0;36mprocess\u001b[1;34m(study, get_actual_func, get_expected_func, chunk_ids, num_forks, is_actual_unique, is_expected_unique, callback)\u001b[0m\n\u001b[0;32m      7\u001b[0m     \u001b[1;32mif\u001b[0m \u001b[0mnum_forks\u001b[0m \u001b[1;32mis\u001b[0m \u001b[1;32mNone\u001b[0m\u001b[1;33m:\u001b[0m \u001b[0mnum_forks\u001b[0m \u001b[1;33m=\u001b[0m \u001b[0mmultiprocessing\u001b[0m\u001b[1;33m.\u001b[0m\u001b[0mcpu_count\u001b[0m\u001b[1;33m(\u001b[0m\u001b[1;33m)\u001b[0m\u001b[1;33m\u001b[0m\u001b[1;33m\u001b[0m\u001b[0m\n\u001b[0;32m      8\u001b[0m     \u001b[0mnum_forks\u001b[0m \u001b[1;33m=\u001b[0m \u001b[0mmin\u001b[0m\u001b[1;33m(\u001b[0m\u001b[1;33m[\u001b[0m\u001b[0mnum_forks\u001b[0m\u001b[1;33m,\u001b[0m \u001b[0mlen\u001b[0m\u001b[1;33m(\u001b[0m\u001b[0mchunk_ids\u001b[0m\u001b[1;33m)\u001b[0m\u001b[1;33m]\u001b[0m\u001b[1;33m)\u001b[0m\u001b[1;33m\u001b[0m\u001b[1;33m\u001b[0m\u001b[0m\n\u001b[1;32m----> 9\u001b[1;33m     for chunk_idx, chunk_result in enumerate(fork.imap_unordered(num_forks,\n\u001b[0m\u001b[0;32m     10\u001b[0m                                                                  \u001b[0m_process_chunk\u001b[0m\u001b[1;33m,\u001b[0m\u001b[1;33m\u001b[0m\u001b[1;33m\u001b[0m\u001b[0m\n\u001b[0;32m     11\u001b[0m                                                                  \u001b[0mstudy\u001b[0m\u001b[1;33m,\u001b[0m\u001b[1;33m\u001b[0m\u001b[1;33m\u001b[0m\u001b[0m\n",
      "\u001b[1;32m~\\Documents\\Python Scripts\\Master_Internship_Comp-Vis\\segmetrics.py-master\\segmetrics\\parallel.py\u001b[0m in \u001b[0;36mimap_unordered\u001b[1;34m(processes, f, *args, **kwargs)\u001b[0m\n\u001b[0;32m    116\u001b[0m             \u001b[1;32mif\u001b[0m \u001b[0mrun_parallel\u001b[0m\u001b[1;33m:\u001b[0m\u001b[1;33m\u001b[0m\u001b[1;33m\u001b[0m\u001b[0m\n\u001b[0;32m    117\u001b[0m                 \u001b[0mchunksize\u001b[0m \u001b[1;33m=\u001b[0m \u001b[0mint\u001b[0m\u001b[1;33m(\u001b[0m\u001b[0mround\u001b[0m\u001b[1;33m(\u001b[0m\u001b[0mfloat\u001b[0m\u001b[1;33m(\u001b[0m\u001b[0mn\u001b[0m\u001b[1;33m)\u001b[0m \u001b[1;33m/\u001b[0m \u001b[0mprocesses\u001b[0m\u001b[1;33m)\u001b[0m\u001b[1;33m)\u001b[0m \u001b[1;32mif\u001b[0m \u001b[0mkwargs\u001b[0m\u001b[1;33m.\u001b[0m\u001b[0mget\u001b[0m\u001b[1;33m(\u001b[0m\u001b[1;34m'use_chunks'\u001b[0m\u001b[1;33m)\u001b[0m \u001b[1;32melse\u001b[0m \u001b[1;36m1\u001b[0m\u001b[1;33m\u001b[0m\u001b[1;33m\u001b[0m\u001b[0m\n\u001b[1;32m--> 118\u001b[1;33m                 \u001b[1;32mfor\u001b[0m \u001b[0mresult\u001b[0m \u001b[1;32min\u001b[0m \u001b[0mpool\u001b[0m\u001b[1;33m.\u001b[0m\u001b[0mimap_unordered\u001b[0m\u001b[1;33m(\u001b[0m\u001b[0m_UnrollArgs\u001b[0m\u001b[1;33m(\u001b[0m\u001b[0mf\u001b[0m\u001b[1;33m)\u001b[0m\u001b[1;33m,\u001b[0m \u001b[0mreal_args\u001b[0m\u001b[1;33m,\u001b[0m \u001b[0mchunksize\u001b[0m\u001b[1;33m)\u001b[0m\u001b[1;33m:\u001b[0m\u001b[1;33m\u001b[0m\u001b[1;33m\u001b[0m\u001b[0m\n\u001b[0m\u001b[0;32m    119\u001b[0m                     \u001b[1;32myield\u001b[0m \u001b[0mresult\u001b[0m\u001b[1;33m\u001b[0m\u001b[1;33m\u001b[0m\u001b[0m\n\u001b[0;32m    120\u001b[0m                 \u001b[0mpool\u001b[0m\u001b[1;33m.\u001b[0m\u001b[0mclose\u001b[0m\u001b[1;33m(\u001b[0m\u001b[1;33m)\u001b[0m\u001b[1;33m\u001b[0m\u001b[1;33m\u001b[0m\u001b[0m\n",
      "\u001b[1;32m~\\anaconda3\\envs\\Master-Internship_Comp-Vis\\lib\\multiprocessing\\pool.py\u001b[0m in \u001b[0;36mnext\u001b[1;34m(self, timeout)\u001b[0m\n\u001b[0;32m    866\u001b[0m         \u001b[1;32mif\u001b[0m \u001b[0msuccess\u001b[0m\u001b[1;33m:\u001b[0m\u001b[1;33m\u001b[0m\u001b[1;33m\u001b[0m\u001b[0m\n\u001b[0;32m    867\u001b[0m             \u001b[1;32mreturn\u001b[0m \u001b[0mvalue\u001b[0m\u001b[1;33m\u001b[0m\u001b[1;33m\u001b[0m\u001b[0m\n\u001b[1;32m--> 868\u001b[1;33m         \u001b[1;32mraise\u001b[0m \u001b[0mvalue\u001b[0m\u001b[1;33m\u001b[0m\u001b[1;33m\u001b[0m\u001b[0m\n\u001b[0m\u001b[0;32m    869\u001b[0m \u001b[1;33m\u001b[0m\u001b[0m\n\u001b[0;32m    870\u001b[0m     \u001b[0m__next__\u001b[0m \u001b[1;33m=\u001b[0m \u001b[0mnext\u001b[0m                    \u001b[1;31m# XXX\u001b[0m\u001b[1;33m\u001b[0m\u001b[1;33m\u001b[0m\u001b[0m\n",
      "\u001b[1;31mNameError\u001b[0m: name 'random' is not defined"
     ]
    }
   ],
   "source": [
    "chunk_ids = range(11) # ??random isn't defined? Only here a problem because the other chunks below work\n",
    "study     = create_parallel_testing_study()\n",
    "for chunk_id in segmetrics.parallel.process(study, get_random_actual, get_random_expected, chunk_ids, num_forks=2, \n",
    "                                            is_actual_unique=False, is_expected_unique=False): #error here with random not being defined ???\n",
    "    \n",
    "    print('Finished chunk ID %d' % chunk_id)\n",
    "    \n",
    "print('')\n",
    "study.print_results() #SEG is the ISBI score and NSD is the self-implemented object based metric with "
   ]
  },
  {
   "cell_type": "code",
   "execution_count": 28,
   "metadata": {},
   "outputs": [
    {
     "name": "stderr",
     "output_type": "stream",
     "text": [
      "C:\\Users\\Paul\\anaconda3\\envs\\Master-Internship_Comp-Vis\\lib\\site-packages\\numpy\\core\\fromnumeric.py:3372: RuntimeWarning: Mean of empty slice.\n",
      "  return _methods._mean(a, axis=axis, dtype=dtype,\n",
      "C:\\Users\\Paul\\anaconda3\\envs\\Master-Internship_Comp-Vis\\lib\\site-packages\\numpy\\core\\_methods.py:170: RuntimeWarning: invalid value encountered in double_scalars\n",
      "  ret = ret.dtype.type(ret / rcount)\n"
     ]
    },
    {
     "ename": "AssertionError",
     "evalue": "",
     "output_type": "error",
     "traceback": [
      "\u001b[1;31m---------------------------------------------------------------------------\u001b[0m",
      "\u001b[1;31mAssertionError\u001b[0m                            Traceback (most recent call last)",
      "\u001b[1;32m<ipython-input-28-88366a01f456>\u001b[0m in \u001b[0;36m<module>\u001b[1;34m\u001b[0m\n\u001b[0;32m      5\u001b[0m \u001b[1;32mfor\u001b[0m \u001b[0mmeasure_name\u001b[0m \u001b[1;32min\u001b[0m \u001b[0mstudy\u001b[0m\u001b[1;33m.\u001b[0m\u001b[0mmeasures\u001b[0m\u001b[1;33m:\u001b[0m\u001b[1;33m\u001b[0m\u001b[1;33m\u001b[0m\u001b[0m\n\u001b[0;32m      6\u001b[0m     \u001b[1;32massert\u001b[0m  \u001b[0mlen\u001b[0m\u001b[1;33m(\u001b[0m\u001b[0mstudy\u001b[0m\u001b[1;33m[\u001b[0m\u001b[0mmeasure_name\u001b[0m\u001b[1;33m]\u001b[0m\u001b[1;33m)\u001b[0m \u001b[1;33m==\u001b[0m  \u001b[0mlen\u001b[0m\u001b[1;33m(\u001b[0m\u001b[0mstudy\u001b[0m\u001b[1;33m[\u001b[0m\u001b[0mmeasure_name\u001b[0m\u001b[1;33m]\u001b[0m\u001b[1;33m)\u001b[0m\u001b[1;33m\u001b[0m\u001b[1;33m\u001b[0m\u001b[0m\n\u001b[1;32m----> 7\u001b[1;33m     \u001b[1;32massert\u001b[0m \u001b[0mmean\u001b[0m\u001b[1;33m(\u001b[0m\u001b[0mstudy\u001b[0m\u001b[1;33m[\u001b[0m\u001b[0mmeasure_name\u001b[0m\u001b[1;33m]\u001b[0m\u001b[1;33m)\u001b[0m \u001b[1;33m==\u001b[0m \u001b[0mmean\u001b[0m\u001b[1;33m(\u001b[0m\u001b[0mstudy\u001b[0m\u001b[1;33m[\u001b[0m\u001b[0mmeasure_name\u001b[0m\u001b[1;33m]\u001b[0m\u001b[1;33m)\u001b[0m\u001b[1;33m\u001b[0m\u001b[1;33m\u001b[0m\u001b[0m\n\u001b[0m\u001b[0;32m      8\u001b[0m     \u001b[1;32massert\u001b[0m  \u001b[0mstd\u001b[0m\u001b[1;33m(\u001b[0m\u001b[0mstudy\u001b[0m\u001b[1;33m[\u001b[0m\u001b[0mmeasure_name\u001b[0m\u001b[1;33m]\u001b[0m\u001b[1;33m)\u001b[0m \u001b[1;33m==\u001b[0m  \u001b[0mstd\u001b[0m\u001b[1;33m(\u001b[0m\u001b[0mstudy\u001b[0m\u001b[1;33m[\u001b[0m\u001b[0mmeasure_name\u001b[0m\u001b[1;33m]\u001b[0m\u001b[1;33m)\u001b[0m\u001b[1;33m\u001b[0m\u001b[1;33m\u001b[0m\u001b[0m\n",
      "\u001b[1;31mAssertionError\u001b[0m: "
     ]
    }
   ],
   "source": [
    "study2 = create_parallel_testing_study() \n",
    "for chunk_id in chunk_ids:\n",
    "    study2.set_expected(get_random_expected(chunk_id), unique=False) # this pattern is seen often. so i give gt to study.set_expected\n",
    "    study2.process(get_random_actual(chunk_id), unique=False, chunk_id=chunk_id) # and i give seg images to study.process. And this for each pair in a for loop\n",
    "for measure_name in study.measures:\n",
    "    assert  len(study[measure_name]) ==  len(study[measure_name])\n",
    "    assert mean(study[measure_name]) == mean(study[measure_name])\n",
    "    assert  std(study[measure_name]) ==  std(study[measure_name])"
   ]
  },
  {
   "cell_type": "markdown",
   "metadata": {},
   "source": [
    "## Testing `Hausdorff` and `NSD`"
   ]
  },
  {
   "cell_type": "markdown",
   "metadata": {},
   "source": [
    "Using **image-based distances**:"
   ]
  },
  {
   "cell_type": "code",
   "execution_count": 10,
   "metadata": {
    "ExecuteTime": {
     "end_time": "2018-02-24T11:26:25.426505Z",
     "start_time": "2018-02-24T11:26:02.370639Z"
    },
    "scrolled": false
   },
   "outputs": [
    {
     "name": "stdout",
     "output_type": "stream",
     "text": [
      "HSD (a2e): 98.1446\n",
      "HSD (e2a): 55.886\n",
      "HSD (sym): 98.1446\n",
      "NSD      : 21.89 %\n",
      "Wall time: 1.46 s\n"
     ]
    }
   ],
   "source": [
    "%%time  #this chunk works \n",
    "study = Study()\n",
    "\n",
    "study.add_measure(NSD()                , 'NSD      ') #adding pixel-based distances I think. Not object\n",
    "study.add_measure(Hausdorff(mode='a2e'), 'HSD (a2e)') #still not sure what Hausdorff makes\n",
    "study.add_measure(Hausdorff(mode='e2a'), 'HSD (e2a)')\n",
    "study.add_measure(Hausdorff(mode='sym'), 'HSD (sym)')\n",
    "\n",
    "for groundtruth, result in zip(groundtruth_list, result_list):\n",
    "    study.set_expected(groundtruth) # do like this\n",
    "    study.process(result)\n",
    "\n",
    "study.print_results()"
   ]
  },
  {
   "cell_type": "markdown",
   "metadata": {},
   "source": [
    "Using **object-based distances**:"
   ]
  },
  {
   "cell_type": "code",
   "execution_count": 11,
   "metadata": {
    "ExecuteTime": {
     "end_time": "2018-02-24T11:26:25.426505Z",
     "start_time": "2018-02-24T11:26:02.370639Z"
    },
    "scrolled": false
   },
   "outputs": [
    {
     "name": "stdout",
     "output_type": "stream",
     "text": [
      "HSD (a2e): 5.40361\n",
      "HSD (e2a): 29.5705\n",
      "HSD (sym): 30.77\n",
      "NSD      :  9.62 %\n",
      "Wall time: 4min 37s\n"
     ]
    }
   ],
   "source": [
    "%%time # this chunk works but takes long but was expected \n",
    "study = Study() # but if it takes so long for 2 images.... then what for 92 images.... probably have to only use random subset or sth\n",
    "\n",
    "study.add_measure(ObjectBasedDistance(NSD())                , 'NSD      ')\n",
    "study.add_measure(ObjectBasedDistance(Hausdorff(mode='a2e')), 'HSD (a2e)')\n",
    "study.add_measure(ObjectBasedDistance(Hausdorff(mode='e2a')), 'HSD (e2a)')\n",
    "study.add_measure(ObjectBasedDistance(Hausdorff(mode='sym')), 'HSD (sym)')\n",
    "\n",
    "for groundtruth, result in zip(groundtruth_list, result_list):\n",
    "    study.set_expected(groundtruth)\n",
    "    study.process(result)\n",
    "\n",
    "study.print_results()"
   ]
  },
  {
   "cell_type": "markdown",
   "metadata": {},
   "source": [
    "Using ***legacy* object-based distances**: (reproduces results prior to version 0.11)"
   ]
  },
  {
   "cell_type": "code",
   "execution_count": 12,
   "metadata": {
    "ExecuteTime": {
     "end_time": "2018-02-24T11:26:25.426505Z",
     "start_time": "2018-02-24T11:26:02.370639Z"
    },
    "scrolled": false
   },
   "outputs": [
    {
     "name": "stdout",
     "output_type": "stream",
     "text": [
      "HSD (a2e): 4.83967\n",
      "HSD (e2a): 29.4556\n",
      "HSD (sym): 30.5281\n",
      "NSD      :  9.14 %\n",
      "Wall time: 15.7 s\n"
     ]
    }
   ],
   "source": [
    "%%time # this takes less time and is maybe more suited ??what's difference between legacy and normal??\n",
    "study = Study()\n",
    "\n",
    "study.add_measure(ObjectBasedDistance(                NSD(), skip_fn=True), 'NSD      ')\n",
    "study.add_measure(ObjectBasedDistance(Hausdorff(mode='a2e'), skip_fn=True), 'HSD (a2e)')\n",
    "study.add_measure(ObjectBasedDistance(Hausdorff(mode='e2a'), skip_fn=True), 'HSD (e2a)')\n",
    "study.add_measure(ObjectBasedDistance(Hausdorff(mode='sym'), skip_fn=True), 'HSD (sym)')\n",
    "\n",
    "for groundtruth, result in zip(groundtruth_list, result_list):\n",
    "    study.set_expected(groundtruth)\n",
    "    study.process(result)\n",
    "\n",
    "study.print_results()"
   ]
  },
  {
   "cell_type": "markdown",
   "metadata": {},
   "source": [
    "## Testing the `detection` sub-module"
   ]
  },
  {
   "cell_type": "code",
   "execution_count": 19,
   "metadata": {},
   "outputs": [],
   "source": [
    "study = Study()\n",
    "study.add_measure(FalseSplit(), 'Split')\n",
    "study.add_measure(FalseMerge(), 'Merge')\n",
    "study.add_measure(FalsePositive(), 'FP')\n",
    "study.add_measure(FalseNegative(), 'FN')"
   ]
  },
  {
   "cell_type": "markdown",
   "metadata": {},
   "source": [
    "### No errors expected"
   ]
  },
  {
   "cell_type": "code",
   "execution_count": 26,
   "metadata": {},
   "outputs": [
    {
     "name": "stdout",
     "output_type": "stream",
     "text": [
      "   FN: 0\n",
      "   FP: 0\n",
      "Merge: 0\n",
      "Split: 0\n"
     ]
    },
    {
     "data": {
      "image/png": "[encoded data removed]",
      "text/plain": [
       "<Figure size 864x288 with 4 Axes>"
      ]
     },
     "metadata": {
      "needs_background": "light"
     },
     "output_type": "display_data"
    }
   ],
   "source": [
    "ref = zeros((500, 500), 'uint8')\n",
    "ref[100:200, 100:200] = 1\n",
    "ref[300:400, 100:200] = 2\n",
    "ref[100:200, 300:400] = 3\n",
    "ref[300:400, 300:400] = 4\n",
    "\n",
    "seg = zeros((500, 500), 'uint8')\n",
    "seg[120:220, 120:220] = 4 # doesn't matter if corresponding objects have the same or different labels\n",
    "seg[340:440, 100:200] = 3\n",
    "seg[100:200, 250:400] = 2\n",
    "seg[300:480, 300:400] = 1\n",
    "\n",
    "study.reset() # why reset???????????\n",
    "study.set_expected(ref)\n",
    "study.process(seg)\n",
    "study.print_results()\n",
    "\n",
    "figure(figsize=(12,4))\n",
    "subplot(141)\n",
    "imshow(ref, 'gray')\n",
    "title('ref')\n",
    "subplot(142)\n",
    "imshow(seg, 'gray')\n",
    "title('seg')\n",
    "subplot(143)\n",
    "imshow(study.measures['FP'].result, 'gray') # do like this ok ok\n",
    "title('FP')\n",
    "subplot(144)\n",
    "imshow(study.measures['FN'].result, 'gray')\n",
    "title('FN')\n",
    "tight_layout()\n",
    "\n",
    "assert all([sum(study[key]) == 0 for key in study.measures])"
   ]
  },
  {
   "cell_type": "markdown",
   "metadata": {},
   "source": [
    "### False negative"
   ]
  },
  {
   "cell_type": "code",
   "execution_count": 22,
   "metadata": {},
   "outputs": [
    {
     "name": "stderr",
     "output_type": "stream",
     "text": [
      "<>:33: SyntaxWarning: \"is not\" with a literal. Did you mean \"!=\"?\n",
      "<>:33: SyntaxWarning: \"is not\" with a literal. Did you mean \"!=\"?\n"
     ]
    },
    {
     "name": "stdout",
     "output_type": "stream",
     "text": [
      "   FN: 1\n",
      "   FP: 0\n",
      "Merge: 0\n",
      "Split: 0\n"
     ]
    },
    {
     "name": "stderr",
     "output_type": "stream",
     "text": [
      "<ipython-input-22-f807f8bc8f8a>:33: SyntaxWarning: \"is not\" with a literal. Did you mean \"!=\"?\n",
      "  assert all([sum(study[key]) == 0 for key in study.measures if key is not 'FN'])\n"
     ]
    },
    {
     "data": {
      "image/png": "[encoded data removed]",
      "text/plain": [
       "<Figure size 864x288 with 4 Axes>"
      ]
     },
     "metadata": {
      "needs_background": "light"
     },
     "output_type": "display_data"
    }
   ],
   "source": [
    "ref = zeros((500, 500), 'uint8')\n",
    "ref[100:200, 100:200] = 1\n",
    "ref[300:400, 100:200] = 2\n",
    "ref[100:200, 300:400] = 3\n",
    "ref[300:400, 300:400] = 4\n",
    "\n",
    "seg = zeros((500, 500), 'uint8')\n",
    "seg[120:220, 120:220] = 1\n",
    "seg[340:440, 100:200] = 2\n",
    "seg[100:200, 250:400] = 3\n",
    "\n",
    "study.reset()\n",
    "study.set_expected(ref)\n",
    "study.process(seg)\n",
    "study.print_results()\n",
    "\n",
    "figure(figsize=(12,4))\n",
    "subplot(141)\n",
    "imshow(ref, 'gray')\n",
    "title('ref')\n",
    "subplot(142)\n",
    "imshow(seg, 'gray')\n",
    "title('seg')\n",
    "subplot(143)\n",
    "imshow(study.measures['FP'].result, 'gray')\n",
    "title('FP')\n",
    "subplot(144)\n",
    "imshow(study.measures['FN'].result, 'gray')\n",
    "title('FN')\n",
    "tight_layout()\n",
    "\n",
    "assert sum(study['FN']) == 1\n",
    "assert all([sum(study[key]) == 0 for key in study.measures if key is not 'FN'])"
   ]
  },
  {
   "cell_type": "code",
   "execution_count": 23,
   "metadata": {},
   "outputs": [
    {
     "name": "stderr",
     "output_type": "stream",
     "text": [
      "<>:34: SyntaxWarning: \"is not\" with a literal. Did you mean \"!=\"?\n",
      "<>:34: SyntaxWarning: \"is not\" with a literal. Did you mean \"!=\"?\n",
      "<ipython-input-23-51bd2cbfa3c5>:34: SyntaxWarning: \"is not\" with a literal. Did you mean \"!=\"?\n",
      "  assert all([sum(study[key]) == 0 for key in study.measures if key is not 'FN'])\n"
     ]
    },
    {
     "name": "stdout",
     "output_type": "stream",
     "text": [
      "   FN: 1\n",
      "   FP: 0\n",
      "Merge: 0\n",
      "Split: 0\n"
     ]
    },
    {
     "data": {
      "image/png": "[encoded data removed]",
      "text/plain": [
       "<Figure size 864x288 with 4 Axes>"
      ]
     },
     "metadata": {
      "needs_background": "light"
     },
     "output_type": "display_data"
    }
   ],
   "source": [
    "ref = zeros((500, 500), 'uint8')\n",
    "ref[100:200, 100:200] = 1\n",
    "ref[300:400, 100:200] = 2\n",
    "ref[100:200, 300:400] = 3\n",
    "ref[250:500, 250:500] = 4\n",
    "\n",
    "seg = zeros((500, 500), 'uint8')\n",
    "seg[120:220, 120:220] = 1\n",
    "seg[340:440, 100:200] = 2\n",
    "seg[100:200, 250:400] = 3\n",
    "seg[300:480, 300:400] = 4\n",
    "\n",
    "study.reset()\n",
    "study.set_expected(ref)\n",
    "study.process(seg)\n",
    "study.print_results() # here the object is detected but only a small amount to it's seen as not detected\n",
    "\n",
    "figure(figsize=(12,4))\n",
    "subplot(141)\n",
    "imshow(ref, 'gray')\n",
    "title('ref')\n",
    "subplot(142)\n",
    "imshow(seg, 'gray')\n",
    "title('seg')\n",
    "subplot(143)\n",
    "imshow(study.measures['FP'].result, 'gray')\n",
    "title('FP')\n",
    "subplot(144)\n",
    "imshow(study.measures['FN'].result, 'gray')\n",
    "title('FN')\n",
    "tight_layout()\n",
    "\n",
    "assert sum(study['FN']) == 1\n",
    "assert all([sum(study[key]) == 0 for key in study.measures if key is not 'FN'])"
   ]
  },
  {
   "cell_type": "code",
   "execution_count": 24,
   "metadata": {},
   "outputs": [
    {
     "name": "stderr",
     "output_type": "stream",
     "text": [
      "<>:32: SyntaxWarning: \"is not\" with a literal. Did you mean \"!=\"?\n",
      "<>:32: SyntaxWarning: \"is not\" with a literal. Did you mean \"!=\"?\n",
      "<ipython-input-24-18f8ae1db76b>:32: SyntaxWarning: \"is not\" with a literal. Did you mean \"!=\"?\n",
      "  assert all([sum(study[key]) == 0 for key in study.measures if key is not 'FN'])\n"
     ]
    },
    {
     "name": "stdout",
     "output_type": "stream",
     "text": [
      "   FN: 2\n",
      "   FP: 0\n",
      "Merge: 0\n",
      "Split: 0\n"
     ]
    },
    {
     "data": {
      "image/png": "[encoded data removed]",
      "text/plain": [
       "<Figure size 864x288 with 4 Axes>"
      ]
     },
     "metadata": {
      "needs_background": "light"
     },
     "output_type": "display_data"
    }
   ],
   "source": [
    "ref = zeros((500, 500), 'uint8')\n",
    "ref[100:200, 100:200] = 1\n",
    "ref[300:400, 100:200] = 2\n",
    "ref[100:200, 300:400] = 3\n",
    "ref[300:400, 300:400] = 4\n",
    "\n",
    "seg = zeros((500, 500), 'uint8')\n",
    "seg[120:220, 120:220] = 1\n",
    "seg[340:440, 100:200] = 2\n",
    "\n",
    "study.reset()\n",
    "study.set_expected(ref)\n",
    "study.process(seg)\n",
    "study.print_results()\n",
    "\n",
    "figure(figsize=(12,4))\n",
    "subplot(141)\n",
    "imshow(ref, 'gray')\n",
    "title('ref')\n",
    "subplot(142)\n",
    "imshow(seg, 'gray')\n",
    "title('seg')\n",
    "subplot(143)\n",
    "imshow(study.measures['FP'].result, 'gray')\n",
    "title('FP')\n",
    "subplot(144)\n",
    "imshow(study.measures['FN'].result, 'gray')\n",
    "title('FN')\n",
    "tight_layout()\n",
    "\n",
    "assert sum(study['FN']) == 2\n",
    "assert all([sum(study[key]) == 0 for key in study.measures if key is not 'FN'])"
   ]
  },
  {
   "cell_type": "markdown",
   "metadata": {},
   "source": [
    "### False positive"
   ]
  },
  {
   "cell_type": "code",
   "execution_count": 17,
   "metadata": {},
   "outputs": [
    {
     "name": "stderr",
     "output_type": "stream",
     "text": [
      "<>:33: SyntaxWarning: \"is not\" with a literal. Did you mean \"!=\"?\n",
      "<>:33: SyntaxWarning: \"is not\" with a literal. Did you mean \"!=\"?\n",
      "<ipython-input-17-530f3a70aa9f>:33: SyntaxWarning: \"is not\" with a literal. Did you mean \"!=\"?\n",
      "  assert all([sum(study[key]) == 0 for key in study.measures if key is not 'FP'])\n"
     ]
    },
    {
     "name": "stdout",
     "output_type": "stream",
     "text": [
      "   FN: 0\n",
      "   FP: 1\n",
      "Merge: 0\n",
      "Split: 0\n"
     ]
    },
    {
     "data": {
      "image/png": "[encoded data removed]",
      "text/plain": [
       "<Figure size 864x288 with 4 Axes>"
      ]
     },
     "metadata": {
      "needs_background": "light"
     },
     "output_type": "display_data"
    }
   ],
   "source": [
    "ref = zeros((500, 500), 'uint8')\n",
    "ref[100:200, 100:200] = 1\n",
    "ref[300:400, 100:200] = 2\n",
    "ref[100:200, 300:400] = 3\n",
    "\n",
    "seg = zeros((500, 500), 'uint8')\n",
    "seg[120:220, 120:220] = 1\n",
    "seg[340:440, 100:200] = 2\n",
    "seg[100:200, 250:400] = 3\n",
    "seg[300:480, 300:400] = 4\n",
    "\n",
    "study.reset()\n",
    "study.set_expected(ref)\n",
    "study.process(seg)\n",
    "study.print_results()\n",
    "\n",
    "figure(figsize=(12,4))\n",
    "subplot(141)\n",
    "imshow(ref, 'gray')\n",
    "title('ref')\n",
    "subplot(142)\n",
    "imshow(seg, 'gray')\n",
    "title('seg')\n",
    "subplot(143)\n",
    "imshow(study.measures['FP'].result, 'gray')\n",
    "title('FP')\n",
    "subplot(144)\n",
    "imshow(study.measures['FN'].result, 'gray')\n",
    "title('FN')\n",
    "tight_layout()\n",
    "\n",
    "assert sum(study['FP']) == 1\n",
    "assert all([sum(study[key]) == 0 for key in study.measures if key is not 'FP'])"
   ]
  },
  {
   "cell_type": "code",
   "execution_count": 18,
   "metadata": {},
   "outputs": [
    {
     "name": "stderr",
     "output_type": "stream",
     "text": [
      "<>:34: SyntaxWarning: \"is not\" with a literal. Did you mean \"!=\"?\n",
      "<>:34: SyntaxWarning: \"is not\" with a literal. Did you mean \"!=\"?\n",
      "<ipython-input-18-355564d0e52d>:34: SyntaxWarning: \"is not\" with a literal. Did you mean \"!=\"?\n",
      "  assert all([sum(study[key]) == 0 for key in study.measures if key is not 'FP'])\n"
     ]
    },
    {
     "name": "stdout",
     "output_type": "stream",
     "text": [
      "   FN: 0\n",
      "   FP: 1\n",
      "Merge: 0\n",
      "Split: 0\n"
     ]
    },
    {
     "data": {
      "image/png": "[encoded data removed]",
      "text/plain": [
       "<Figure size 864x288 with 4 Axes>"
      ]
     },
     "metadata": {
      "needs_background": "light"
     },
     "output_type": "display_data"
    }
   ],
   "source": [
    "ref = zeros((500, 500), 'uint8')\n",
    "ref[100:200, 100:200] = 1\n",
    "ref[300:400, 100:200] = 2\n",
    "ref[100:200, 300:400] = 3\n",
    "ref[300:400, 300:400] = 4\n",
    "\n",
    "seg = zeros((500, 500), 'uint8')\n",
    "seg[120:220, 120:220] = 1\n",
    "seg[340:440, 100:200] = 2\n",
    "seg[100:200, 250:400] = 3\n",
    "seg[250:500, 250:500] = 4\n",
    "\n",
    "study.reset()\n",
    "study.set_expected(ref)\n",
    "study.process(seg)\n",
    "study.print_results()\n",
    "\n",
    "figure(figsize=(12,4))\n",
    "subplot(141)\n",
    "imshow(ref, 'gray')\n",
    "title('ref')\n",
    "subplot(142)\n",
    "imshow(seg, 'gray')\n",
    "title('seg')\n",
    "subplot(143)\n",
    "imshow(study.measures['FP'].result, 'gray')\n",
    "title('FP')\n",
    "subplot(144)\n",
    "imshow(study.measures['FN'].result, 'gray')\n",
    "title('FN')\n",
    "tight_layout()\n",
    "\n",
    "assert sum(study['FP']) == 1\n",
    "assert all([sum(study[key]) == 0 for key in study.measures if key is not 'FP'])"
   ]
  },
  {
   "cell_type": "code",
   "execution_count": 19,
   "metadata": {},
   "outputs": [
    {
     "name": "stderr",
     "output_type": "stream",
     "text": [
      "<>:32: SyntaxWarning: \"is not\" with a literal. Did you mean \"!=\"?\n",
      "<>:32: SyntaxWarning: \"is not\" with a literal. Did you mean \"!=\"?\n",
      "<ipython-input-19-6f1fd39ad52a>:32: SyntaxWarning: \"is not\" with a literal. Did you mean \"!=\"?\n",
      "  assert all([sum(study[key]) == 0 for key in study.measures if key is not 'FP'])\n"
     ]
    },
    {
     "name": "stdout",
     "output_type": "stream",
     "text": [
      "   FN: 0\n",
      "   FP: 2\n",
      "Merge: 0\n",
      "Split: 0\n"
     ]
    },
    {
     "data": {
      "image/png": "[encoded data removed]",
      "text/plain": [
       "<Figure size 864x288 with 4 Axes>"
      ]
     },
     "metadata": {
      "needs_background": "light"
     },
     "output_type": "display_data"
    }
   ],
   "source": [
    "ref = zeros((500, 500), 'uint8')\n",
    "ref[100:200, 100:200] = 1\n",
    "ref[300:400, 100:200] = 2\n",
    "\n",
    "seg = zeros((500, 500), 'uint8')\n",
    "seg[120:220, 120:220] = 1\n",
    "seg[340:440, 100:200] = 2\n",
    "seg[100:200, 250:400] = 3\n",
    "seg[300:480, 300:400] = 4\n",
    "\n",
    "study.reset()\n",
    "study.set_expected(ref)\n",
    "study.process(seg)\n",
    "study.print_results()\n",
    "\n",
    "figure(figsize=(12,4))\n",
    "subplot(141)\n",
    "imshow(ref, 'gray')\n",
    "title('ref')\n",
    "subplot(142)\n",
    "imshow(seg, 'gray')\n",
    "title('seg')\n",
    "subplot(143)\n",
    "imshow(study.measures['FP'].result, 'gray')\n",
    "title('FP')\n",
    "subplot(144)\n",
    "imshow(study.measures['FN'].result, 'gray')\n",
    "title('FN')\n",
    "tight_layout()\n",
    "\n",
    "assert sum(study['FP']) == 2\n",
    "assert all([sum(study[key]) == 0 for key in study.measures if key is not 'FP'])"
   ]
  },
  {
   "cell_type": "markdown",
   "metadata": {},
   "source": [
    "### False merge"
   ]
  },
  {
   "cell_type": "code",
   "execution_count": 25,
   "metadata": {},
   "outputs": [
    {
     "name": "stdout",
     "output_type": "stream",
     "text": [
      "   FN: 0\n",
      "   FP: 0\n",
      "Merge: 1\n",
      "Split: 0\n"
     ]
    },
    {
     "data": {
      "image/png": "[encoded data removed]",
      "text/plain": [
       "<Figure size 864x288 with 4 Axes>"
      ]
     },
     "metadata": {
      "needs_background": "light"
     },
     "output_type": "display_data"
    }
   ],
   "source": [
    "ref = zeros((500, 500), 'uint8')\n",
    "ref[100:200, 100:200] = 1\n",
    "ref[300:400, 100:200] = 2\n",
    "ref[100:250, 300:400] = 3\n",
    "ref[250:400, 300:400] = 4\n",
    "\n",
    "seg = zeros((500, 500), 'uint8')\n",
    "seg[120:220, 120:220] = 3\n",
    "seg[340:440, 100:200] = 1\n",
    "seg[ 90:410, 280:420] = 2\n",
    "\n",
    "study.reset()\n",
    "study.set_expected(ref)\n",
    "study.process(seg)\n",
    "study.print_results() #false merge useful so see if objects are in groundtruth separate\n",
    "\n",
    "figure(figsize=(12,4))\n",
    "subplot(141)\n",
    "imshow(ref, 'gray')\n",
    "title('ref')\n",
    "subplot(142)\n",
    "imshow(seg, 'gray')\n",
    "title('seg')\n",
    "subplot(143)\n",
    "imshow(study.measures['FP'].result, 'gray')\n",
    "title('FP')\n",
    "subplot(144)\n",
    "imshow(study.measures['FN'].result, 'gray')\n",
    "title('FN')\n",
    "tight_layout()\n",
    "\n",
    "assert sum(study['Merge']) == 1\n",
    "assert all([sum(study[key]) == 0 for key in study.measures if key != 'Merge'])"
   ]
  },
  {
   "cell_type": "code",
   "execution_count": 21,
   "metadata": {},
   "outputs": [
    {
     "name": "stdout",
     "output_type": "stream",
     "text": [
      "   FN: 0\n",
      "   FP: 1\n",
      "Merge: 1\n",
      "Split: 0\n"
     ]
    },
    {
     "data": {
      "image/png": "[encoded data removed]",
      "text/plain": [
       "<Figure size 864x288 with 4 Axes>"
      ]
     },
     "metadata": {
      "needs_background": "light"
     },
     "output_type": "display_data"
    }
   ],
   "source": [
    "ref = zeros((500, 500), 'uint8')\n",
    "ref[100:200, 100:200] = 1\n",
    "ref[300:400, 100:200] = 2\n",
    "ref[100:200, 300:400] = 3\n",
    "ref[300:400, 300:400] = 4\n",
    "\n",
    "seg = zeros((500, 500), 'uint8')\n",
    "seg[120:220, 120:220] = 1\n",
    "seg[340:440, 100:200] = 2\n",
    "seg[100:400, 250:400] = 3\n",
    "\n",
    "study.reset()\n",
    "study.set_expected(ref)\n",
    "study.process(seg)\n",
    "study.print_results()\n",
    "\n",
    "figure(figsize=(12,4))\n",
    "subplot(141)\n",
    "imshow(ref, 'gray')\n",
    "title('ref')\n",
    "subplot(142)\n",
    "imshow(seg, 'gray')\n",
    "title('seg')\n",
    "subplot(143)\n",
    "imshow(study.measures['FP'].result, 'gray')\n",
    "title('FP')\n",
    "subplot(144)\n",
    "imshow(study.measures['FN'].result, 'gray')\n",
    "title('FN')\n",
    "tight_layout()\n",
    "\n",
    "assert sum(study['Merge']) == 1\n",
    "assert sum(study[   'FP']) == 1\n",
    "assert all([sum(study[key]) == 0 for key in study.measures if key != 'Merge' and key != 'FP'])"
   ]
  },
  {
   "cell_type": "code",
   "execution_count": 22,
   "metadata": {},
   "outputs": [
    {
     "name": "stdout",
     "output_type": "stream",
     "text": [
      "   FN: 0\n",
      "   FP: 2\n",
      "Merge: 1\n",
      "Split: 0\n"
     ]
    },
    {
     "data": {
      "image/png": "[encoded data removed]",
      "text/plain": [
       "<Figure size 864x288 with 4 Axes>"
      ]
     },
     "metadata": {
      "needs_background": "light"
     },
     "output_type": "display_data"
    }
   ],
   "source": [
    "ref = zeros((500, 500), 'uint8')\n",
    "ref[300:400, 100:200] = 2\n",
    "ref[100:200, 300:400] = 3\n",
    "ref[300:400, 300:400] = 4\n",
    "\n",
    "seg = zeros((500, 500), 'uint8')\n",
    "seg[120:220, 120:220] = 1\n",
    "seg[340:440, 100:200] = 2\n",
    "seg[100:400, 250:400] = 3\n",
    "\n",
    "study.reset()\n",
    "study.set_expected(ref)\n",
    "study.process(seg)\n",
    "study.print_results()\n",
    "\n",
    "figure(figsize=(12,4))\n",
    "subplot(141)\n",
    "imshow(ref, 'gray')\n",
    "title('ref')\n",
    "subplot(142)\n",
    "imshow(seg, 'gray')\n",
    "title('seg')\n",
    "subplot(143)\n",
    "imshow(study.measures['FP'].result, 'gray')\n",
    "title('FP')\n",
    "subplot(144)\n",
    "imshow(study.measures['FN'].result, 'gray')\n",
    "title('FN')\n",
    "tight_layout()\n",
    "\n",
    "assert sum(study['Merge']) == 1\n",
    "assert sum(study[   'FP']) == 2\n",
    "assert all([sum(study[key]) == 0 for key in study.measures if key != 'Merge' and key != 'FP'])"
   ]
  },
  {
   "cell_type": "markdown",
   "metadata": {},
   "source": [
    "### False split"
   ]
  },
  {
   "cell_type": "code",
   "execution_count": 23,
   "metadata": {},
   "outputs": [
    {
     "name": "stdout",
     "output_type": "stream",
     "text": [
      "   FN: 0\n",
      "   FP: 0\n",
      "Merge: 0\n",
      "Split: 1\n"
     ]
    },
    {
     "data": {
      "image/png": "[encoded data removed]",
      "text/plain": [
       "<Figure size 864x288 with 4 Axes>"
      ]
     },
     "metadata": {
      "needs_background": "light"
     },
     "output_type": "display_data"
    }
   ],
   "source": [
    "ref = zeros((500, 500), 'uint8')\n",
    "ref[120:220, 120:220] = 1\n",
    "ref[340:440, 100:200] = 2\n",
    "ref[ 90:410, 280:420] = 3\n",
    "\n",
    "seg = zeros((500, 500), 'uint8')\n",
    "seg[100:200, 100:200] = 1\n",
    "seg[300:400, 100:200] = 2\n",
    "seg[100:250, 300:400] = 3\n",
    "seg[250:400, 300:400] = 4\n",
    "\n",
    "study.reset()\n",
    "study.set_expected(ref)\n",
    "study.process(seg)\n",
    "study.print_results()\n",
    "\n",
    "figure(figsize=(12,4))\n",
    "subplot(141)\n",
    "imshow(ref, 'gray')\n",
    "title('ref')\n",
    "subplot(142)\n",
    "imshow(seg, 'gray')\n",
    "title('seg')\n",
    "subplot(143)\n",
    "imshow(study.measures['FP'].result, 'gray')\n",
    "title('FP')\n",
    "subplot(144)\n",
    "imshow(study.measures['FN'].result, 'gray')\n",
    "title('FN')\n",
    "tight_layout()\n",
    "\n",
    "assert sum(study['Split']) == 1\n",
    "assert all([sum(study[key]) == 0 for key in study.measures if key != 'Split'])"
   ]
  },
  {
   "cell_type": "code",
   "execution_count": 24,
   "metadata": {},
   "outputs": [
    {
     "name": "stdout",
     "output_type": "stream",
     "text": [
      "   FN: 1\n",
      "   FP: 0\n",
      "Merge: 0\n",
      "Split: 1\n"
     ]
    },
    {
     "data": {
      "image/png": "[encoded data removed]",
      "text/plain": [
       "<Figure size 864x288 with 4 Axes>"
      ]
     },
     "metadata": {
      "needs_background": "light"
     },
     "output_type": "display_data"
    }
   ],
   "source": [
    "ref = zeros((500, 500), 'uint8')\n",
    "ref[120:220, 120:220] = 1\n",
    "ref[340:440, 100:200] = 2\n",
    "ref[100:400, 250:400] = 3 #object very large and not captured enough by two seg objects so FN\n",
    "\n",
    "seg = zeros((500, 500), 'uint8')\n",
    "seg[100:200, 100:200] = 1\n",
    "seg[300:400, 100:200] = 2\n",
    "seg[100:200, 300:400] = 3\n",
    "seg[300:400, 300:400] = 4\n",
    "\n",
    "study.reset()\n",
    "study.set_expected(ref)\n",
    "study.process(seg)\n",
    "study.print_results()\n",
    "\n",
    "figure(figsize=(12,4))\n",
    "subplot(141)\n",
    "imshow(ref, 'gray')\n",
    "title('ref')\n",
    "subplot(142)\n",
    "imshow(seg, 'gray')\n",
    "title('seg')\n",
    "subplot(143)\n",
    "imshow(study.measures['FP'].result, 'gray')\n",
    "title('FP')\n",
    "subplot(144)\n",
    "imshow(study.measures['FN'].result, 'gray')\n",
    "title('FN')\n",
    "tight_layout()\n",
    "\n",
    "assert sum(study['Split']) == 1\n",
    "assert sum(study[   'FN']) == 1\n",
    "assert all([sum(study[key]) == 0 for key in study.measures if key != 'Split' and key != 'FN'])"
   ]
  },
  {
   "cell_type": "code",
   "execution_count": 25,
   "metadata": {},
   "outputs": [
    {
     "name": "stdout",
     "output_type": "stream",
     "text": [
      "   FN: 2\n",
      "   FP: 0\n",
      "Merge: 0\n",
      "Split: 1\n"
     ]
    },
    {
     "data": {
      "image/png": "[encoded data removed]",
      "text/plain": [
       "<Figure size 864x288 with 4 Axes>"
      ]
     },
     "metadata": {
      "needs_background": "light"
     },
     "output_type": "display_data"
    }
   ],
   "source": [
    "ref = zeros((500, 500), 'uint8')\n",
    "ref[120:220, 120:220] = 1\n",
    "ref[340:440, 100:200] = 2\n",
    "ref[100:400, 250:400] = 3\n",
    "\n",
    "seg = zeros((500, 500), 'uint8')\n",
    "seg[300:400, 100:200] = 2\n",
    "seg[100:200, 300:400] = 3\n",
    "seg[300:400, 300:400] = 4\n",
    "\n",
    "study.reset()\n",
    "study.set_expected(ref)\n",
    "study.process(seg)\n",
    "study.print_results()\n",
    "\n",
    "figure(figsize=(12,4))\n",
    "subplot(141)\n",
    "imshow(ref, 'gray')\n",
    "title('ref')\n",
    "subplot(142)\n",
    "imshow(seg, 'gray')\n",
    "title('seg')\n",
    "subplot(143)\n",
    "imshow(study.measures['FP'].result, 'gray')\n",
    "title('FP')\n",
    "subplot(144)\n",
    "imshow(study.measures['FN'].result, 'gray')\n",
    "title('FN')\n",
    "tight_layout()\n",
    "\n",
    "assert sum(study['Split']) == 1\n",
    "assert sum(study[   'FN']) == 2\n",
    "assert all([sum(study[key]) == 0 for key in study.measures if key != 'Split' and key != 'FN'])"
   ]
  },
  {
   "cell_type": "markdown",
   "metadata": {},
   "source": [
    "## Testing the `RandIndex` Implementation"
   ]
  },
  {
   "cell_type": "code",
   "execution_count": 26,
   "metadata": {},
   "outputs": [],
   "source": [
    "random.seed(3)\n",
    "R = random.rand(40, 40).round().astype(int)\n",
    "S = random.rand(40, 40).round().astype(int)\n",
    "\n",
    "a, b, c, d = 0, 0, 0, 0\n",
    "for i in xrange(len(R.flat)):\n",
    "    for j in xrange(i + 1, len(R.flat)):\n",
    "        if   R.flat[i] == R.flat[j] and S.flat[i] == S.flat[j]: a += 2\n",
    "        elif R.flat[i] != R.flat[j] and S.flat[i] == S.flat[j]: b += 2\n",
    "        elif R.flat[i] == R.flat[j] and S.flat[i] != S.flat[j]: c += 2\n",
    "        elif R.flat[i] != R.flat[j] and S.flat[i] != S.flat[j]: d += 2\n",
    "\n",
    "rand_index_impl = RandIndex()\n",
    "rand_index_impl.set_expected(R)\n",
    "parts = rand_index_impl.compute_parts(S)\n",
    "\n",
    "assert a == parts[0] and b == parts[1] and c == parts[2] and d == parts[3]"
   ]
  },
  {
   "cell_type": "markdown",
   "metadata": {},
   "source": [
    "## Performance of ISBI SEG Score"
   ]
  },
  {
   "cell_type": "code",
   "execution_count": 28,
   "metadata": {
    "ExecuteTime": {
     "end_time": "2018-02-24T11:26:02.363651Z",
     "start_time": "2018-02-24T11:26:01.397791Z"
    }
   },
   "outputs": [
    {
     "name": "stdout",
     "output_type": "stream",
     "text": [
      "2181246991280: 75.19 %\n",
      "2181238715488: 75.19 %\n",
      "2181243834528: 75.19 %\n",
      "2181243834528: 75.19 %\n",
      "2181243834528: 75.19 %\n",
      "2181243677760: 75.19 %\n",
      "2181243677760: 75.19 %\n",
      "2181243677760: 75.19 %\n",
      "392 ms ± 11.1 ms per loop (mean ± std. dev. of 7 runs, 1 loop each)\n"
     ]
    }
   ],
   "source": [
    "%%timeit\n",
    "study = Study()\n",
    "study.add_measure(ISBIScore())\n",
    "study.set_expected(groundtruth_list[0])\n",
    "study.process(result_list[0])\n",
    "study.print_results()"
   ]
  },
  {
   "cell_type": "markdown",
   "metadata": {},
   "source": [
    "## Gauging of ISBI SEG Score"
   ]
  },
  {
   "cell_type": "code",
   "execution_count": 28,
   "metadata": {
    "ExecuteTime": {
     "end_time": "2018-02-24T11:26:02.368027Z",
     "start_time": "2018-02-24T11:26:02.364975Z"
    }
   },
   "outputs": [],
   "source": [
    "seterr(all='raise');"
   ]
  },
  {
   "cell_type": "code",
   "execution_count": 29,
   "metadata": {
    "ExecuteTime": {
     "end_time": "2018-02-24T11:26:25.426505Z",
     "start_time": "2018-02-24T11:26:02.370639Z"
    },
    "scrolled": false
   },
   "outputs": [
    {
     "name": "stdout",
     "output_type": "stream",
     "text": [
      "            ARI: 86.47 %\n",
      "           Dice: 90.65 %\n",
      "Hausdorff (a2e): 98.1446\n",
      "Hausdorff (e2a): 55.886\n",
      "Hausdorff (sym): 98.1446\n",
      "        Jaccard: 2.54111\n",
      "            NSD: 21.89 %\n",
      "           Rand: 92.03 %\n",
      "            SEG: 79.99 %\n"
     ]
    }
   ],
   "source": [
    "study = Study()\n",
    "\n",
    "study.add_measure(Dice()             , 'Dice'   )\n",
    "study.add_measure(NSD()              , 'NSD'    )\n",
    "study.add_measure(ISBIScore()        , 'SEG'    )\n",
    "study.add_measure(RandIndex()        , 'Rand'   )\n",
    "study.add_measure(AdjustedRandIndex(), 'ARI'    )\n",
    "study.add_measure(JaccardIndex()     , 'Jaccard')\n",
    "\n",
    "study.add_measure(Hausdorff(mode='sym'), 'Hausdorff (sym)') # Hausdorff has so many modes bruuuuh\n",
    "study.add_measure(Hausdorff(mode='a2e'), 'Hausdorff (a2e)')\n",
    "study.add_measure(Hausdorff(mode='e2a'), 'Hausdorff (e2a)')\n",
    "\n",
    "for groundtruth, result in zip(groundtruth_list, result_list):\n",
    "    study.set_expected(groundtruth)\n",
    "    study.process(result)\n",
    "\n",
    "study.print_results()"
   ]
  },
  {
   "cell_type": "code",
   "execution_count": 30,
   "metadata": {
    "ExecuteTime": {
     "end_time": "2018-02-24T11:26:36.125049Z",
     "start_time": "2018-02-24T11:26:25.428423Z"
    },
    "scrolled": false
   },
   "outputs": [
    {
     "name": "stderr",
     "output_type": "stream",
     "text": [
      "/home/void/Documents/segmetrics.py/isbi_seg_oak.py:19: UserWarning: data/01_RES/mask000.tif is a low contrast image\n",
      "  io.imsave('data/01_RES/mask%03d.tif'       % i, result     [None, :, :].astype('uint16'), plugin='tifffile')\n",
      "/home/void/Documents/segmetrics.py/isbi_seg_oak.py:20: UserWarning: data/01_GT/SEG/man_seg000.tif is a low contrast image\n",
      "  io.imsave('data/01_GT/SEG/man_seg%03d.tif' % i, groundtruth[None, :, :].astype('uint16'), plugin='tifffile')\n",
      "/home/void/Documents/segmetrics.py/isbi_seg_oak.py:19: UserWarning: data/01_RES/mask001.tif is a low contrast image\n",
      "  io.imsave('data/01_RES/mask%03d.tif'       % i, result     [None, :, :].astype('uint16'), plugin='tifffile')\n",
      "/home/void/Documents/segmetrics.py/isbi_seg_oak.py:20: UserWarning: data/01_GT/SEG/man_seg001.tif is a low contrast image\n",
      "  io.imsave('data/01_GT/SEG/man_seg%03d.tif' % i, groundtruth[None, :, :].astype('uint16'), plugin='tifffile')\n"
     ]
    },
    {
     "name": "stdout",
     "output_type": "stream",
     "text": [
      "Error: 2.3291596751295884e-07\n"
     ]
    }
   ],
   "source": [
    "def get_official_isbi_seg_score(groundtruth_list, result_list):\n",
    "    oak_result = isbi_seg_oak.oak(groundtruth_list, result_list).decode('utf-8')\n",
    "    match = re.compile(r'.*?([\\.0-9]+)').match(oak_result)\n",
    "    if match is not None:\n",
    "        official_result = float(match.group(1))\n",
    "        return official_result\n",
    "    else:\n",
    "        raise ValueError('Unexpected result:', oak_result)\n",
    "\n",
    "print('Error:', get_official_isbi_seg_score(groundtruth_list, result_list) - mean(study['SEG']))"
   ]
  },
  {
   "cell_type": "markdown",
   "metadata": {},
   "source": [
    "Passing `unique=False` to `Study.set_expected` should not affect the result of the *first* image, that is already labeled uniquely:"
   ]
  },
  {
   "cell_type": "code",
   "execution_count": 31,
   "metadata": {
    "ExecuteTime": {
     "end_time": "2018-02-24T11:27:32.036552Z",
     "start_time": "2018-02-24T11:27:23.798190Z"
    }
   },
   "outputs": [],
   "source": [
    "studies2 = [Study(), Study()]\n",
    "for measure in study.measures.items():\n",
    "    for s in studies2: s.add_measure(*measure[::-1])\n",
    "\n",
    "studies2[0].set_expected(groundtruth_list[0], unique=True)\n",
    "studies2[0].process(result_list[0])\n",
    "\n",
    "studies2[1].set_expected(groundtruth_list[0], unique=False)\n",
    "studies2[1].process(result_list[0])\n",
    "\n",
    "for measure_name in study.measures.keys():\n",
    "    assert allclose(studies2[0][measure_name], studies2[1][measure_name])"
   ]
  },
  {
   "cell_type": "markdown",
   "metadata": {},
   "source": [
    "## Dealing with Non-unique Labels and ISBI SEG Score"
   ]
  },
  {
   "cell_type": "code",
   "execution_count": 32,
   "metadata": {
    "ExecuteTime": {
     "end_time": "2018-02-24T11:27:37.488921Z",
     "start_time": "2018-02-24T11:27:37.474948Z"
    }
   },
   "outputs": [
    {
     "name": "stdout",
     "output_type": "stream",
     "text": [
      "0 to 426\n",
      "0 to 348\n"
     ]
    }
   ],
   "source": [
    "print('%s to %s' % (result_list[1].min()     , result_list[1].max()     ))\n",
    "print('%s to %s' % (groundtruth_list[1].min(), groundtruth_list[1].max()))"
   ]
  },
  {
   "cell_type": "code",
   "execution_count": 33,
   "metadata": {
    "ExecuteTime": {
     "end_time": "2018-02-24T11:27:37.732337Z",
     "start_time": "2018-02-24T11:27:37.490743Z"
    }
   },
   "outputs": [
    {
     "data": {
      "image/png": "[encoded data removed]",
      "text/plain": [
       "<Figure size 432x288 with 1 Axes>"
      ]
     },
     "metadata": {
      "needs_background": "light"
     },
     "output_type": "display_data"
    }
   ],
   "source": [
    "imshow(groundtruth_list[1] == 1, 'gray')\n",
    "tight_layout()"
   ]
  },
  {
   "cell_type": "code",
   "execution_count": 34,
   "metadata": {
    "ExecuteTime": {
     "end_time": "2018-02-24T11:27:45.228774Z",
     "start_time": "2018-02-24T11:27:37.734017Z"
    }
   },
   "outputs": [
    {
     "name": "stderr",
     "output_type": "stream",
     "text": [
      "/home/void/Documents/segmetrics.py/isbi_seg_oak.py:19: UserWarning: data/01_RES/mask000.tif is a low contrast image\n",
      "  io.imsave('data/01_RES/mask%03d.tif'       % i, result     [None, :, :].astype('uint16'), plugin='tifffile')\n",
      "/home/void/Documents/segmetrics.py/isbi_seg_oak.py:20: UserWarning: data/01_GT/SEG/man_seg000.tif is a low contrast image\n",
      "  io.imsave('data/01_GT/SEG/man_seg%03d.tif' % i, groundtruth[None, :, :].astype('uint16'), plugin='tifffile')\n"
     ]
    },
    {
     "name": "stdout",
     "output_type": "stream",
     "text": [
      "0.805115\n"
     ]
    }
   ],
   "source": [
    "official_result = get_official_isbi_seg_score([groundtruth_list[1]], [result_list[1]])\n",
    "print(official_result)"
   ]
  },
  {
   "cell_type": "markdown",
   "metadata": {},
   "source": [
    "Test *without* relabling the ground truth:"
   ]
  },
  {
   "cell_type": "code",
   "execution_count": 35,
   "metadata": {
    "ExecuteTime": {
     "end_time": "2018-02-24T11:27:46.742916Z",
     "start_time": "2018-02-24T11:27:45.230669Z"
    },
    "scrolled": true
   },
   "outputs": [
    {
     "name": "stdout",
     "output_type": "stream",
     "text": [
      "1.618582974316496e-07\n"
     ]
    }
   ],
   "source": [
    "study = Study()\n",
    "study.add_measure(ISBIScore())\n",
    "\n",
    "study.set_expected(groundtruth_list[1])\n",
    "study.process(result_list[1])\n",
    "\n",
    "our_result = mean(study[list(study.measures.keys())[0]])\n",
    "print(our_result - official_result)"
   ]
  },
  {
   "cell_type": "markdown",
   "metadata": {},
   "source": [
    "Test *with* relabling the ground truth:"
   ]
  },
  {
   "cell_type": "code",
   "execution_count": 36,
   "metadata": {
    "ExecuteTime": {
     "end_time": "2018-02-24T11:27:48.188015Z",
     "start_time": "2018-02-24T11:27:46.744419Z"
    },
    "scrolled": true
   },
   "outputs": [
    {
     "name": "stdout",
     "output_type": "stream",
     "text": [
      "0.009435157718938436\n"
     ]
    }
   ],
   "source": [
    "study = Study()\n",
    "study.add_measure(ISBIScore())\n",
    "\n",
    "study.set_expected(groundtruth_list[1], unique=False)\n",
    "study.process(result_list[1])\n",
    "\n",
    "our_result = mean(study[list(study.measures.keys())[0]])\n",
    "print(our_result - official_result)"
   ]
  },
  {
   "cell_type": "markdown",
   "metadata": {},
   "source": [
    "So in order to immitate the official evaluation software, we must not relabel the ground truth."
   ]
  },
  {
   "cell_type": "markdown",
   "metadata": {},
   "source": [
    "## Datatype Tests"
   ]
  },
  {
   "cell_type": "code",
   "execution_count": 37,
   "metadata": {
    "ExecuteTime": {
     "end_time": "2018-02-24T11:27:48.582366Z",
     "start_time": "2018-02-24T11:27:48.189578Z"
    }
   },
   "outputs": [
    {
     "name": "stdout",
     "output_type": "stream",
     "text": [
      "uint8, uint8\n",
      "0.7519281991705565\n"
     ]
    }
   ],
   "source": [
    "def test_dtypes(result_dtype, gt_dtype, unique=True):\n",
    "    result      = load_img('testdata/01_result.png').astype(result_dtype)\n",
    "    groundtruth = load_img('testdata/01_groundtruth.png').astype(gt_dtype)\n",
    "\n",
    "    study = Study()\n",
    "    study.add_measure(ISBIScore(), 'isbi')\n",
    "\n",
    "    study.set_expected(groundtruth, unique=unique)\n",
    "    study.process(result)\n",
    "\n",
    "    print('%s, %s' % (groundtruth.dtype, result.dtype))\n",
    "    print(mean(study['isbi']))\n",
    "\n",
    "test_dtypes('uint8', 'uint8')"
   ]
  },
  {
   "cell_type": "code",
   "execution_count": 38,
   "metadata": {
    "ExecuteTime": {
     "end_time": "2018-02-24T11:27:48.982634Z",
     "start_time": "2018-02-24T11:27:48.584145Z"
    }
   },
   "outputs": [
    {
     "name": "stdout",
     "output_type": "stream",
     "text": [
      "int64, int64\n",
      "0.7519281991705565\n"
     ]
    }
   ],
   "source": [
    "test_dtypes(int, int)"
   ]
  },
  {
   "cell_type": "code",
   "execution_count": 39,
   "metadata": {
    "ExecuteTime": {
     "end_time": "2018-02-24T11:27:49.005586Z",
     "start_time": "2018-02-24T11:27:48.984226Z"
    }
   },
   "outputs": [],
   "source": [
    "try:\n",
    "    test_dtypes(float, int)\n",
    "    assert False\n",
    "except AssertionError as ex:\n",
    "    assert str(ex) == 'illegal image dtype', ex"
   ]
  },
  {
   "cell_type": "code",
   "execution_count": 40,
   "metadata": {
    "ExecuteTime": {
     "end_time": "2018-02-24T11:27:49.025835Z",
     "start_time": "2018-02-24T11:27:49.007106Z"
    }
   },
   "outputs": [],
   "source": [
    "try:\n",
    "    test_dtypes(int, bool)\n",
    "    assert False\n",
    "except AssertionError as ex:\n",
    "    assert str(ex) == 'with unique=True a non-boolean ground truth is expected', ex"
   ]
  },
  {
   "cell_type": "code",
   "execution_count": 41,
   "metadata": {
    "ExecuteTime": {
     "end_time": "2018-02-24T11:27:49.456024Z",
     "start_time": "2018-02-24T11:27:49.027892Z"
    }
   },
   "outputs": [
    {
     "name": "stdout",
     "output_type": "stream",
     "text": [
      "bool, int64\n",
      "0.7519281991705565\n"
     ]
    }
   ],
   "source": [
    "test_dtypes(int, bool, unique=False) # unique for my gts is true because they labeled but for my segments it's false because binary"
   ]
  },
  {
   "cell_type": "code",
   "execution_count": 42,
   "metadata": {
    "ExecuteTime": {
     "end_time": "2018-02-24T11:27:49.482139Z",
     "start_time": "2018-02-24T11:27:49.457480Z"
    }
   },
   "outputs": [],
   "source": [
    "try:\n",
    "    test_dtypes(int, float)\n",
    "    assert False\n",
    "except AssertionError as ex:\n",
    "    assert str(ex) == 'illegal ground truth dtype', ex"
   ]
  },
  {
   "cell_type": "code",
   "execution_count": 43,
   "metadata": {
    "ExecuteTime": {
     "end_time": "2018-02-24T11:27:49.512562Z",
     "start_time": "2018-02-24T11:27:49.483673Z"
    }
   },
   "outputs": [],
   "source": [
    "try:\n",
    "    test_dtypes(bool, float)\n",
    "    assert False\n",
    "except AssertionError as ex:\n",
    "    assert str(ex) == 'illegal ground truth dtype', ex"
   ]
  },
  {
   "cell_type": "markdown",
   "metadata": {},
   "source": [
    "## Test GT vs. GT"
   ]
  },
  {
   "cell_type": "code",
   "execution_count": 29,
   "metadata": {
    "ExecuteTime": {
     "end_time": "2018-02-24T11:27:49.761279Z",
     "start_time": "2018-02-24T11:27:49.513939Z"
    }
   },
   "outputs": [],
   "source": [
    "groundtruth = load_img('testdata/01_groundtruth.png')\n",
    "\n",
    "study = Study()\n",
    "study.add_measure(ISBIScore(), 'isbi')\n",
    "\n",
    "study.set_expected(groundtruth)\n",
    "study.process(groundtruth)\n",
    "\n",
    "assert allclose(1, mean(study['isbi']))"
   ]
  },
  {
   "cell_type": "code",
   "execution_count": 30,
   "metadata": {
    "ExecuteTime": {
     "end_time": "2018-02-24T11:27:50.062534Z",
     "start_time": "2018-02-24T11:27:49.762565Z"
    }
   },
   "outputs": [],
   "source": [
    "groundtruth = load_img('testdata/01_groundtruth.png')\n",
    "\n",
    "study = Study()\n",
    "study.add_measure(ISBIScore(), 'isbi')\n",
    "\n",
    "study.set_expected(groundtruth, unique=False) #this time unique to false\n",
    "study.process(groundtruth) # lol here gt too\n",
    "\n",
    "assert allclose(1, mean(study['isbi']))"
   ]
  },
  {
   "cell_type": "code",
   "execution_count": 31,
   "metadata": {
    "ExecuteTime": {
     "end_time": "2018-02-24T11:27:50.415645Z",
     "start_time": "2018-02-24T11:27:50.064039Z"
    }
   },
   "outputs": [],
   "source": [
    "groundtruth = (load_img('testdata/01_groundtruth.png') > 0).astype(int)\n",
    "\n",
    "study = Study()\n",
    "study.add_measure(ISBIScore(), 'isbi')\n",
    "\n",
    "study.set_expected(groundtruth, unique=False) # this time false for both \n",
    "study.process(groundtruth, unique=False)\n",
    "\n",
    "assert allclose(1, mean(study['isbi']))"
   ]
  }
 ],
 "metadata": {
  "kernelspec": {
   "display_name": "Python 3",
   "language": "python",
   "name": "python3"
  },
  "language_info": {
   "codemirror_mode": {
    "name": "ipython",
    "version": 3
   },
   "file_extension": ".py",
   "mimetype": "text/x-python",
   "name": "python",
   "nbconvert_exporter": "python",
   "pygments_lexer": "ipython3",
   "version": "3.8.5"
  },
  "varInspector": {
   "cols": {
    "lenName": 16,
    "lenType": 16,
    "lenVar": 40
   },
   "kernels_config": {
    "python": {
     "delete_cmd_postfix": "",
     "delete_cmd_prefix": "del ",
     "library": "var_list.py",
     "varRefreshCmd": "print(var_dic_list())"
    },
    "r": {
     "delete_cmd_postfix": ") ",
     "delete_cmd_prefix": "rm(",
     "library": "var_list.r",
     "varRefreshCmd": "cat(var_dic_list()) "
    }
   },
   "types_to_exclude": [
    "module",
    "function",
    "builtin_function_or_method",
    "instance",
    "_Feature"
   ],
   "window_display": false
  }
 },
 "nbformat": 4,
 "nbformat_minor": 1
}
